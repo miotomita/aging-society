{
 "cells": [
  {
   "cell_type": "code",
   "execution_count": 1,
   "id": "bc3bd971",
   "metadata": {},
   "outputs": [],
   "source": [
    "import pandas as pd\n",
    "import json\n",
    "import re\n",
    "import requests\n",
    "import urllib\n",
    "import numpy as np\n",
    "import time"
   ]
  },
  {
   "cell_type": "code",
   "execution_count": 2,
   "id": "9c9ca9bc",
   "metadata": {},
   "outputs": [],
   "source": [
    "from selenium import webdriver\n",
    "from selenium.webdriver.common.by import By\n",
    "from webdriver_manager.chrome import ChromeDriverManager\n",
    "from selenium.webdriver.support.ui import Select"
   ]
  },
  {
   "cell_type": "markdown",
   "id": "d84986a7",
   "metadata": {},
   "source": [
    "city code"
   ]
  },
  {
   "cell_type": "code",
   "execution_count": 3,
   "id": "d42d58ad",
   "metadata": {},
   "outputs": [],
   "source": [
    "response = requests.get(\"https://madefor.github.io/jisx0402/api/v1/all.json\")\n",
    "data = response.json()"
   ]
  },
  {
   "cell_type": "code",
   "execution_count": 4,
   "id": "d3a79b0c",
   "metadata": {},
   "outputs": [],
   "source": [
    "cities = pd.DataFrame(data).T.rename_axis('code_6digit').reset_index()"
   ]
  },
  {
   "cell_type": "code",
   "execution_count": 5,
   "id": "d6446946",
   "metadata": {},
   "outputs": [],
   "source": [
    "cities['code_5digit'] = cities.code_6digit.str.extract(r'(.*)\\d').astype(str)"
   ]
  },
  {
   "cell_type": "code",
   "execution_count": 6,
   "id": "7fd30a49",
   "metadata": {
    "scrolled": true
   },
   "outputs": [
    {
     "data": {
      "text/html": [
       "<div>\n",
       "<style scoped>\n",
       "    .dataframe tbody tr th:only-of-type {\n",
       "        vertical-align: middle;\n",
       "    }\n",
       "\n",
       "    .dataframe tbody tr th {\n",
       "        vertical-align: top;\n",
       "    }\n",
       "\n",
       "    .dataframe thead th {\n",
       "        text-align: right;\n",
       "    }\n",
       "</style>\n",
       "<table border=\"1\" class=\"dataframe\">\n",
       "  <thead>\n",
       "    <tr style=\"text-align: right;\">\n",
       "      <th></th>\n",
       "      <th>code_6digit</th>\n",
       "      <th>prefecture</th>\n",
       "      <th>city</th>\n",
       "      <th>prefecture_kana</th>\n",
       "      <th>city_kana</th>\n",
       "      <th>code_5digit</th>\n",
       "    </tr>\n",
       "  </thead>\n",
       "  <tbody>\n",
       "    <tr>\n",
       "      <th>0</th>\n",
       "      <td>011002</td>\n",
       "      <td>北海道</td>\n",
       "      <td>札幌市</td>\n",
       "      <td>ホッカイドウ</td>\n",
       "      <td>サッポロシ</td>\n",
       "      <td>01100</td>\n",
       "    </tr>\n",
       "    <tr>\n",
       "      <th>1</th>\n",
       "      <td>011011</td>\n",
       "      <td>北海道</td>\n",
       "      <td>札幌市中央区</td>\n",
       "      <td>ホッカイドウ</td>\n",
       "      <td>サッポロシチュウオウク</td>\n",
       "      <td>01101</td>\n",
       "    </tr>\n",
       "    <tr>\n",
       "      <th>2</th>\n",
       "      <td>011029</td>\n",
       "      <td>北海道</td>\n",
       "      <td>札幌市北区</td>\n",
       "      <td>ホッカイドウ</td>\n",
       "      <td>サッポロシキタク</td>\n",
       "      <td>01102</td>\n",
       "    </tr>\n",
       "    <tr>\n",
       "      <th>3</th>\n",
       "      <td>011037</td>\n",
       "      <td>北海道</td>\n",
       "      <td>札幌市東区</td>\n",
       "      <td>ホッカイドウ</td>\n",
       "      <td>サッポロシヒガシク</td>\n",
       "      <td>01103</td>\n",
       "    </tr>\n",
       "    <tr>\n",
       "      <th>4</th>\n",
       "      <td>011045</td>\n",
       "      <td>北海道</td>\n",
       "      <td>札幌市白石区</td>\n",
       "      <td>ホッカイドウ</td>\n",
       "      <td>サッポロシシロイシク</td>\n",
       "      <td>01104</td>\n",
       "    </tr>\n",
       "  </tbody>\n",
       "</table>\n",
       "</div>"
      ],
      "text/plain": [
       "  code_6digit prefecture    city prefecture_kana    city_kana code_5digit\n",
       "0      011002        北海道     札幌市          ホッカイドウ        サッポロシ       01100\n",
       "1      011011        北海道  札幌市中央区          ホッカイドウ  サッポロシチュウオウク       01101\n",
       "2      011029        北海道   札幌市北区          ホッカイドウ     サッポロシキタク       01102\n",
       "3      011037        北海道   札幌市東区          ホッカイドウ    サッポロシヒガシク       01103\n",
       "4      011045        北海道  札幌市白石区          ホッカイドウ   サッポロシシロイシク       01104"
      ]
     },
     "execution_count": 6,
     "metadata": {},
     "output_type": "execute_result"
    }
   ],
   "source": [
    "cities.head()"
   ]
  },
  {
   "cell_type": "code",
   "execution_count": 7,
   "id": "8e20184c",
   "metadata": {},
   "outputs": [],
   "source": [
    "#exclude cities without data\n",
    "#government ordinance-designated cities\n",
    "exclude = ['大阪市','名古屋市','京都市','横浜市','神戸市','北九州市','札幌市',\n",
    "             '川崎市','福岡市','広島市','仙台市','千葉市','さいたま市','静岡市',\n",
    "             '堺市','新潟市','浜松市','岡山市','相模原市','熊本市']\n",
    "\n",
    "#Northern territories in dispute with Russia\n",
    "kuril = [\"01695\", \"01696\", \"01697\", \"01698\", \"01699\", \"01700\"]\n",
    "\n",
    "cities = cities[(~cities.city.isin(exclude))&(~cities.code_5digit.isin(kuril))]"
   ]
  },
  {
   "cell_type": "markdown",
   "id": "478a15c6",
   "metadata": {},
   "source": [
    "data"
   ]
  },
  {
   "cell_type": "code",
   "execution_count": 8,
   "id": "62ea1ec0",
   "metadata": {},
   "outputs": [
    {
     "name": "stdout",
     "output_type": "stream",
     "text": [
      "\n"
     ]
    },
    {
     "name": "stderr",
     "output_type": "stream",
     "text": [
      "/var/folders/m5/5y2tv80j62v6m1f84pdbl2vm0000gn/T/ipykernel_46302/1503906442.py:1: DeprecationWarning: executable_path has been deprecated, please pass in a Service object\n",
      "  driver = webdriver.Chrome(ChromeDriverManager().install())\n"
     ]
    }
   ],
   "source": [
    "driver = webdriver.Chrome(ChromeDriverManager().install())"
   ]
  },
  {
   "cell_type": "code",
   "execution_count": 9,
   "id": "bb47aa84",
   "metadata": {},
   "outputs": [],
   "source": [
    "residential_care = pd.DataFrame()\n",
    "specified = pd.DataFrame()"
   ]
  },
  {
   "cell_type": "code",
   "execution_count": 10,
   "id": "5f8f35b3",
   "metadata": {},
   "outputs": [],
   "source": [
    "def get_data(code, residential_care, specified):\n",
    "    #get data\n",
    "    url = f\"https://jmap.jp/cities/detail/city/{code}\"\n",
    "    driver.get(url)\n",
    "    time.sleep(1)\n",
    "\n",
    "    #1. population\n",
    "    elements = driver.find_elements(By.XPATH, \"/html/body/div[1]/div[2]/div[1]/div[3]/form/div[3]/table/tbody/tr/td\")\n",
    "    elements_text = [element.text for element in elements]\n",
    "\n",
    "    population = pd.DataFrame({\n",
    "        'age40_64': elements_text[14:21],\n",
    "        'over65': elements_text[21:28],\n",
    "        'over75': elements_text[28:35]\n",
    "    }, index = [2020, '2020_e', 2025, 2030, 2035, 2040, 2045]\n",
    "    ).drop('2020_e',axis=0)\n",
    "\n",
    "    population = population.replace({'\\D':''}, regex=True).astype(int)\n",
    "\n",
    "    ##demand for care＝age40-64*1.0 + age65-74*9.7 + over75-*87.3\n",
    "    population['demand'] = population.age40_64*0.01 + (population.over65 - population.over75)*0.097 + population.over75*0.873\n",
    "\n",
    "    #2. facilities\n",
    "    elements = driver.find_elements(By.XPATH, \"/html/body/div[1]/div[2]/div[1]/div[3]/form/div[10]/table/tbody/tr/td\")\n",
    "    elements_text = [element.text for element in elements]\n",
    "    facilities = pd.DataFrame({'total': elements_text[0:2],\n",
    "                               'home-visit': elements_text[4:6],\n",
    "                               'daycare': elements_text[8:10],\n",
    "                               'residential-care': elements_text[12:14],\n",
    "                               'specified': elements_text[16:18],\n",
    "                               'home-care-support': elements_text[20:22],\n",
    "                               'assistive-products': elements_text[24:26]}, \n",
    "                             index = ['number', 'per_over75']\n",
    "                             ).replace({r',':''},regex=True).astype(float).T\n",
    "\n",
    "    #3. capacity \n",
    "    elements = driver.find_elements(By.XPATH, \"/html/body/div[1]/div[2]/div[1]/div[3]/form/div[11]/table/tbody/tr/td\")\n",
    "    elements_text = [element.text for element in elements]\n",
    "    capacity = pd.DataFrame({'residential-care': elements_text[0:2],\n",
    "                             'specified': elements_text[4:6]}, \n",
    "                            index = ['number', 'per_over75']\n",
    "                           ).replace({'\\D':''}, regex=True).astype(int)\n",
    "\n",
    "    #4. care_workers\n",
    "    elements = driver.find_elements(By.XPATH, \"/html/body/div[1]/div[2]/div[1]/div[3]/form/div[12]/table/tbody/tr[3]/td\")\n",
    "    elements_text = [float(element.text.replace(',','')) for element in elements[:2]]\n",
    "    care_workers = dict(zip(['number', 'per_over75'], elements_text))\n",
    "\n",
    "    #data\n",
    "    data = {'code': code,\n",
    "            'population': population.to_dict(),\n",
    "            'facilities': facilities.to_dict(), \n",
    "            'capacity': capacity.to_dict(), 'care_workers': care_workers}\n",
    "\n",
    "    #detail: residential-care facilities \n",
    "    detail_url1 = f\"https://jmap.jp/facilities/search/type:3/kaigoType:3/searchArea:city/searchId:{code}\"\n",
    "    driver.get(detail_url1)\n",
    "    time.sleep(1)\n",
    "    Select(driver.find_element(By.ID, \"targets\")).select_by_visible_text(\"介護定員数\")\n",
    "    html_tag = driver.find_element(By.XPATH,\"/html/body/div[1]/div[2]/div[1]/div[3]/div[2]\").get_attribute('innerHTML')\n",
    "    table = pd.read_html(html_tag)[0].iloc[:,:4]\n",
    "    table.columns = ['type', 'name', 'address', 'capacity']\n",
    "    table['code'] = code\n",
    "    residential_care = pd.concat([residential_care, table])\n",
    "\n",
    "    #detai2: specified facilities\n",
    "    detail_url2 = f\"https://jmap.jp/facilities/search/type:3/kaigoType:4/searchArea:city/searchId:{code}\"\n",
    "    driver.get(detail_url2)\n",
    "    time.sleep(1)\n",
    "    Select(driver.find_element(By.ID, \"targets\")).select_by_visible_text(\"介護定員数\")\n",
    "    html_tag = driver.find_element(By.XPATH,\"/html/body/div[1]/div[2]/div[1]/div[3]/div[2]\").get_attribute('innerHTML')\n",
    "    table = pd.read_html(html_tag)[0].iloc[:,:4]\n",
    "    table.columns = ['type', 'name', 'address', 'capacity']\n",
    "    table['code'] = code\n",
    "    specified= pd.concat([specified, table])\n",
    "    \n",
    "    return data, residential_care, specified"
   ]
  },
  {
   "cell_type": "code",
   "execution_count": 11,
   "id": "ca34a0cd",
   "metadata": {
    "scrolled": false
   },
   "outputs": [
    {
     "name": "stdout",
     "output_type": "stream",
     "text": [
      "30361 湯浅町\n",
      "30362 広川町\n",
      "30366 有田川町\n",
      "30381 美浜町\n",
      "30382 日高町\n",
      "30383 由良町\n",
      "30390 印南町\n",
      "30391 みなべ町\n",
      "30401 白浜町\n",
      "31384 日吉津村\n",
      "33101 岡山市北区\n",
      "33204 玉野市\n",
      "38422 内子町\n",
      "39201 高知市\n"
     ]
    }
   ],
   "source": [
    "facility_data = []\n",
    "null_list = {}\n",
    "for code in cities.code_5digit:\n",
    "    try:\n",
    "        area_data, residential_care, specified = get_data(code, residential_care, specified)\n",
    "        facility_data.append(area_data)\n",
    "    except:\n",
    "        city_name = cities[cities.code_5digit==code].city.values[0]\n",
    "        null_list[code] = city_name\n",
    "        print(code, city_name)"
   ]
  },
  {
   "cell_type": "code",
   "execution_count": 12,
   "id": "f76dfa42",
   "metadata": {},
   "outputs": [],
   "source": [
    "null_list2 ={}\n",
    "for code in null_list.keys():\n",
    "    try:\n",
    "        area_data, residential_care, specified = get_data(code, residential_care, specified)\n",
    "        facility_data.append(area_data)\n",
    "    except:\n",
    "        city_name = cities[cities.code_5digit==code].city.values[0]\n",
    "        null_list2[code] = city_name\n",
    "        print(code, city_name)"
   ]
  },
  {
   "cell_type": "markdown",
   "id": "f3827871",
   "metadata": {},
   "source": [
    "save"
   ]
  },
  {
   "cell_type": "code",
   "execution_count": 14,
   "id": "dd22f031",
   "metadata": {},
   "outputs": [],
   "source": [
    "with open('facility_data_ver2.json', 'w', encoding='utf-8') as f:\n",
    "    json.dump({\"cities\": facility_data}, f, ensure_ascii=False, indent=4)"
   ]
  },
  {
   "cell_type": "markdown",
   "id": "48eae03a",
   "metadata": {},
   "source": [
    "add coordinate"
   ]
  },
  {
   "cell_type": "code",
   "execution_count": 13,
   "id": "9485a627",
   "metadata": {},
   "outputs": [],
   "source": [
    "residential_care.to_csv('residential_care_facilities.csv', index=False)\n",
    "specified.to_csv('specified_facilities.csv', index=False)"
   ]
  },
  {
   "cell_type": "code",
   "execution_count": 15,
   "id": "94adc2a9",
   "metadata": {},
   "outputs": [],
   "source": [
    "def get_coordinate(x):\n",
    "    try:\n",
    "        makeUrl = \"https://msearch.gsi.go.jp/address-search/AddressSearch?q=\"\n",
    "        s_quote = urllib.parse.quote(x)\n",
    "        url = makeUrl + s_quote\n",
    "        response = requests.get(url)\n",
    "        coordinate = response.json()[0][\"geometry\"][\"coordinates\"]\n",
    "    except:\n",
    "        coordinate = np.nan\n",
    "    return coordinate"
   ]
  },
  {
   "cell_type": "code",
   "execution_count": null,
   "id": "e1421ac4",
   "metadata": {},
   "outputs": [],
   "source": [
    "residential_care['coordinate'] = residential_care.address.apply(get_coordinate)\n",
    "specified['coordinate'] = specified.address.apply(get_coordinate)"
   ]
  },
  {
   "cell_type": "code",
   "execution_count": null,
   "id": "dab2cff1",
   "metadata": {},
   "outputs": [],
   "source": [
    "residential_care.to_csv('residential_care_facilities.csv', index=False)\n",
    "specified.to_csv('specified_facilities.csv', index=False)"
   ]
  },
  {
   "cell_type": "code",
   "execution_count": 17,
   "id": "e4715aa2",
   "metadata": {},
   "outputs": [],
   "source": [
    "#pd.json_normalize(data, sep='_')"
   ]
  }
 ],
 "metadata": {
  "kernelspec": {
   "display_name": "venv310",
   "language": "python",
   "name": "venv310"
  },
  "language_info": {
   "codemirror_mode": {
    "name": "ipython",
    "version": 3
   },
   "file_extension": ".py",
   "mimetype": "text/x-python",
   "name": "python",
   "nbconvert_exporter": "python",
   "pygments_lexer": "ipython3",
   "version": "3.10.3"
  },
  "toc": {
   "base_numbering": 1,
   "nav_menu": {},
   "number_sections": true,
   "sideBar": true,
   "skip_h1_title": false,
   "title_cell": "Table of Contents",
   "title_sidebar": "Contents",
   "toc_cell": false,
   "toc_position": {},
   "toc_section_display": true,
   "toc_window_display": true
  }
 },
 "nbformat": 4,
 "nbformat_minor": 5
}
